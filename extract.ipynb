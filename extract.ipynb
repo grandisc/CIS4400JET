{
 "cells": [
  {
   "cell_type": "code",
   "execution_count": 1,
   "id": "f83fe6db",
   "metadata": {},
   "outputs": [],
   "source": [
    "# This script extracts the data from the Data folder, which contains the csv files of the ownership payment data"
   ]
  },
  {
   "cell_type": "code",
   "execution_count": 7,
   "id": "408953f7",
   "metadata": {},
   "outputs": [],
   "source": [
    "import os\n",
    "from google.cloud import storage\n",
    "from google.cloud.storage import Bucket"
   ]
  },
  {
   "cell_type": "code",
   "execution_count": 8,
   "id": "86f26514",
   "metadata": {},
   "outputs": [],
   "source": [
    "# Key to Google Cloud Account Credentials\n",
    "os.environ['GOOGLE_APPLICATION_CREDENTIALS'] = 'Key/pragmatic-bongo-404116-e2d94f71da27.json'"
   ]
  },
  {
   "cell_type": "markdown",
   "id": "ba2afbc7",
   "metadata": {},
   "source": [
    "#### Upload Data to Bucket"
   ]
  },
  {
   "cell_type": "code",
   "execution_count": 9,
   "id": "9e0fb52e",
   "metadata": {
    "scrolled": true
   },
   "outputs": [
    {
     "name": "stdout",
     "output_type": "stream",
     "text": [
      "File Data/data.csv uploaded to ownership_payment.csv in bucket cis4400_group_project.\n"
     ]
    }
   ],
   "source": [
    "def upload_blob(bucket_name, source_file_name, destination_blob_name):\n",
    "    \"\"\"Uploads a file to the bucket.\"\"\"\n",
    "    storage_client = storage.Client()\n",
    "    bucket = storage_client.bucket(bucket_name)\n",
    "    blob = bucket.blob(destination_blob_name)\n",
    "\n",
    "    blob.upload_from_filename(source_file_name)\n",
    "\n",
    "    print(f\"File {source_file_name} uploaded to {destination_blob_name} in bucket {bucket_name}.\")\n",
    "    \n",
    "\n",
    "bucket_name = 'cis4400_group_project'\n",
    "source_file_name = 'Data/data.csv'\n",
    "destination_blob_name = 'ownership_payment.csv'\n",
    "\n",
    "# Upload the CSV file\n",
    "upload_blob(bucket_name, source_file_name, destination_blob_name)"
   ]
  }
 ],
 "metadata": {
  "kernelspec": {
   "display_name": "Python 3 (ipykernel)",
   "language": "python",
   "name": "python3"
  },
  "language_info": {
   "codemirror_mode": {
    "name": "ipython",
    "version": 3
   },
   "file_extension": ".py",
   "mimetype": "text/x-python",
   "name": "python",
   "nbconvert_exporter": "python",
   "pygments_lexer": "ipython3",
   "version": "3.8.2"
  }
 },
 "nbformat": 4,
 "nbformat_minor": 5
}
