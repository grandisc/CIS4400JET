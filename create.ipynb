{
 "cells": [
  {
   "cell_type": "code",
   "execution_count": 1,
   "id": "dfca6281",
   "metadata": {},
   "outputs": [],
   "source": [
    "# This script creates a Google Cloud Storage Bucket, BigQuery Dataset (Data Warehouse), and BigQuery Tables"
   ]
  },
  {
   "cell_type": "code",
   "execution_count": 11,
   "id": "7a8de45d",
   "metadata": {},
   "outputs": [],
   "source": [
    "import os\n",
    "from google.cloud import storage\n",
    "from google.cloud import bigquery\n",
    "from google.oauth2 import service_account"
   ]
  },
  {
   "cell_type": "code",
   "execution_count": 12,
   "id": "f4093cc6",
   "metadata": {},
   "outputs": [],
   "source": [
    "# Key to Google Cloud Account Credentials\n",
    "os.environ['GOOGLE_APPLICATION_CREDENTIALS'] = 'Key/pragmatic-bongo-404116-e2d94f71da27.json'"
   ]
  },
  {
   "cell_type": "markdown",
   "id": "3b7c2212",
   "metadata": {},
   "source": [
    "#### Create Google Cloud Storage Bucket"
   ]
  },
  {
   "cell_type": "code",
   "execution_count": 13,
   "id": "ccd3824c",
   "metadata": {},
   "outputs": [
    {
     "name": "stdout",
     "output_type": "stream",
     "text": [
      "409 POST https://storage.googleapis.com/storage/v1/b?project=pragmatic-bongo-404116&prettyPrint=false: Your previous request to create the named bucket succeeded and you already own it.\n"
     ]
    }
   ],
   "source": [
    "def create_bucket(bucket_name, project_id):\n",
    "    \"\"\"Creates a new bucket in a specific project.\"\"\"\n",
    "    storage_client = storage.Client(project=project_id)\n",
    "    bucket = storage_client.bucket(bucket_name)\n",
    "    new_bucket = storage_client.create_bucket(bucket, project=project_id)\n",
    "    print(f\"Bucket {new_bucket.name} created\")\n",
    "# Create a new bucket\n",
    "project_id = 'pragmatic-bongo-404116'\n",
    "bucket_name = 'cis4400_group_project'\n",
    "try:\n",
    "    create_bucket(bucket_name, project_id)\n",
    "except Exception as e:\n",
    "    print(f\"{e}\")"
   ]
  },
  {
   "cell_type": "markdown",
   "id": "a10bd696",
   "metadata": {},
   "source": [
    "#### Create BigQuery Dataset"
   ]
  },
  {
   "cell_type": "code",
   "execution_count": 14,
   "id": "e6be31c9",
   "metadata": {},
   "outputs": [
    {
     "name": "stdout",
     "output_type": "stream",
     "text": [
      "409 POST https://bigquery.googleapis.com/bigquery/v2/projects/pragmatic-bongo-404116/datasets?prettyPrint=false: Already Exists: Dataset pragmatic-bongo-404116:ownership_payment\n"
     ]
    }
   ],
   "source": [
    "def create_bigquery_dataset(project_id, dataset_name):\n",
    "    \"\"\"Creates a BigQuery dataset.\"\"\"\n",
    "    bigquery_client = bigquery.Client(project=project_id)\n",
    "    dataset_id = f\"{project_id}.{dataset_name}\"\n",
    "    dataset = bigquery.Dataset(dataset_id)\n",
    "    dataset.location = \"US\"\n",
    "    bigquery_client.create_dataset(dataset)\n",
    "    print(f\"Dataset {dataset_id} created.\")\n",
    "\n",
    "project_id = 'pragmatic-bongo-404116'\n",
    "dataset_name = 'ownership_payment'\n",
    "try:\n",
    "    create_bigquery_dataset(project_id, dataset_name)\n",
    "except Exception as e:\n",
    "    print(f\"{e}\")"
   ]
  },
  {
   "cell_type": "markdown",
   "id": "91b26e65",
   "metadata": {},
   "source": [
    "#### Create Tables in BigQuery"
   ]
  },
  {
   "cell_type": "code",
   "execution_count": 15,
   "id": "e2b3f8c0",
   "metadata": {},
   "outputs": [
    {
     "name": "stdout",
     "output_type": "stream",
     "text": [
      "Table Payment_Fact already exists in the dataset ownership_payment.\n",
      "Table DimLocation already exists in the dataset ownership_payment.\n",
      "Table DimPhysician already exists in the dataset ownership_payment.\n",
      "Table DimManufacturerOrGpaPayer already exists in the dataset ownership_payment.\n",
      "Table DimDate already exists in the dataset ownership_payment.\n"
     ]
    }
   ],
   "source": [
    "# Get the path to the service account key file from the environment variable\n",
    "service_account_path = os.environ.get('GOOGLE_APPLICATION_CREDENTIALS')\n",
    "\n",
    "# Set your Google Cloud credentials using the environment variable\n",
    "credentials = service_account.Credentials.from_service_account_file(service_account_path)\n",
    "# Initialize a BigQuery client\n",
    "client = bigquery.Client(credentials=credentials, project=credentials.project_id)\n",
    "\n",
    "# Define your dataset and table names\n",
    "dataset_name = 'ownership_payment'\n",
    "fact_table_name = 'Payment_Fact'\n",
    "location_dim_table_name = 'DimLocation'\n",
    "physician_dim_table_name = 'DimPhysician'\n",
    "manufacturer_dim_table_name = 'DimManufacturerOrGpaPayer'\n",
    "date_dim_table_name = 'DimDate'\n",
    "\n",
    "# Create the dataset\n",
    "dataset_ref = client.dataset(dataset_name)\n",
    "client.get_dataset(dataset_ref)\n",
    "\n",
    "# Define the schema for the fact table\n",
    "fact_table_schema = [\n",
    "    bigquery.SchemaField('RECORD_ID', 'INTEGER', mode='REQUIRED'),\n",
    "    bigquery.SchemaField('LOCATION_ID', 'STRING'),\n",
    "    bigquery.SchemaField('PHYSICIAN_PROFILE_ID', 'INTEGER'),\n",
    "    bigquery.SchemaField('APPLICABLE_MANUFACTURER_OR_APPLICABLE_GPO_MAKING_PAYMENT_ID', 'INTEGER'),\n",
    "    bigquery.SchemaField('DATE_ID', 'STRING'),\n",
    "    bigquery.SchemaField('VALUE_OF_INTEREST', 'FLOAT'),\n",
    "    bigquery.SchemaField('TOTAL_AMOUNT_INVESTED_USDOLLARS', 'FLOAT'),\n",
    "    bigquery.SchemaField('DISPUTE_STATUS_FOR_PUBLICATION', 'BOOL') \n",
    "]\n",
    "\n",
    "# DEFINE SCHEMA FOR REST OF DIMENSION TABLES AND FACT TABLE BASED ON DATA MODEL\n",
    "location_dim_table_schema = [\n",
    "    bigquery.SchemaField('LOCATION_ID', 'STRING', mode='REQUIRED'),\n",
    "    bigquery.SchemaField('RECIPIENT_PRIMARY_BUSINESS_STREET_ADDRESS', 'STRING'),\n",
    "    bigquery.SchemaField('RECIPIENT_CITY', 'STRING'),\n",
    "    bigquery.SchemaField('RECIPIENT_STATE', 'STRING'),\n",
    "    bigquery.SchemaField('RECIPIENT_ZIP_CODE', 'STRING'),\n",
    "    bigquery.SchemaField('RECIPIENT_COUNTRY', 'STRING'),\n",
    "    bigquery.SchemaField('RECIPIENT_PROVINCE', 'STRING'),\n",
    "    bigquery.SchemaField('RECIPIENT_POSTAL_CODE', 'STRING')\n",
    "]\n",
    "physician_dim_table_schema = [\n",
    "    bigquery.SchemaField('PHYSICIAN_PROFILE_ID', 'STRING', mode='REQUIRED'),\n",
    "    bigquery.SchemaField('PHYSICIAN_FIRSTNAME', 'STRING'),\n",
    "    bigquery.SchemaField('PHYSICIAN_MIDDLENAME', 'STRING'),\n",
    "    bigquery.SchemaField('PHYSICIAN_LASTNAME', 'STRING'),\n",
    "    bigquery.SchemaField('PHYSICIAN_NPI', 'STRING'),\n",
    "    bigquery.SchemaField('PHYSICIAN_PRIMARY_TYPE', 'STRING'),\n",
    "    bigquery.SchemaField('PHYSICIAN_SPECIALTY', 'STRING'),\n",
    "    bigquery.SchemaField('PHYSICIAN_NAME_SUFFIX', 'STRING'),\n",
    "    bigquery.SchemaField('INTEREST_HELD_BY_PHYSICIAN_OR_AN_IMMEDIATE_FAMILY_MEMBER', 'STRING')\n",
    "\n",
    "]\n",
    "manufacturer_dim_table_schema = [\n",
    "    bigquery.SchemaField('APPLICABLE_MANUFACTURER_OR_APPLICABLE_GPO_MAKING_PAYMENT_ID', 'STRING', mode='REQUIRED'),\n",
    "    bigquery.SchemaField('SUBMITTING_APPLICABLE_MANUFACTURER_OR_APPLICABLE_GPO_NAME', 'STRING'),\n",
    "    bigquery.SchemaField('APPLICABLE_MANUFACTURER_OR_APPLICABLE_GPO_MAKING_PAYMENT_NAME', 'STRING'),\n",
    "    bigquery.SchemaField('APPLICABLE_MANUFACTURER_OR_APPLICABLE_GPO_MAKING_PAYMENT_STATE', 'STRING'),\n",
    "    bigquery.SchemaField('APPLICABLE_MANUFACTURER_OR_APPLICABLE_GPO_MAKING_PAYMENT_COUNTRY', 'STRING')\n",
    "\n",
    "]\n",
    "date_dim_table_schema = [\n",
    "    bigquery.SchemaField('DATE_ID', 'STRING', mode = 'REQUIRED'),\n",
    "    bigquery.SchemaField('PAYMENT_PUBLICATION_DATE', 'DATE'),\n",
    "    bigquery.SchemaField('PROGRAM_YEAR', 'INTEGER')\n",
    "]\n",
    "\n",
    "\n",
    "# Create the tables\n",
    "fact_table_ref = dataset_ref.table(fact_table_name)\n",
    "try:\n",
    "    client.get_table(fact_table_ref)\n",
    "    print(f\"Table {fact_table_name} already exists in the dataset {dataset_name}.\")\n",
    "except:\n",
    "    fact_table = bigquery.Table(fact_table_ref, schema=fact_table_schema)\n",
    "    client.create_table(fact_table)\n",
    "    print(f\"{fact_table_name} Created\")\n",
    "    \n",
    "location_dim_table_ref = dataset_ref.table(location_dim_table_name)\n",
    "try:\n",
    "    client.get_table(location_dim_table_ref)\n",
    "    print(f\"Table {location_dim_table_name} already exists in the dataset {dataset_name}.\")\n",
    "except:\n",
    "    location_dim_table = bigquery.Table(location_dim_table_ref, schema=location_dim_table_schema)\n",
    "    client.create_table(location_dim_table)\n",
    "    print(f\"{location_dim_table_name} Created\")\n",
    "    \n",
    "physician_dim_table_ref = dataset_ref.table(physician_dim_table_name)\n",
    "try:\n",
    "    client.get_table(physician_dim_table_ref)\n",
    "    print(f\"Table {physician_dim_table_name} already exists in the dataset {dataset_name}.\")\n",
    "except:\n",
    "    physician_dim_table = bigquery.Table(physician_dim_table_ref, schema=physician_dim_table_schema)\n",
    "    client.create_table(physician_dim_table)\n",
    "    print(f\"{physician_dim_table_name} Created\")\n",
    "    \n",
    "manufacturer_dim_table_ref = dataset_ref.table(manufacturer_dim_table_name)\n",
    "try:\n",
    "    client.get_table(manufacturer_dim_table_ref)\n",
    "    print(f\"Table {manufacturer_dim_table_name} already exists in the dataset {dataset_name}.\")\n",
    "except:\n",
    "    manufacturer_dim_table = bigquery.Table(manufacturer_dim_table_ref, schema=manufacturer_dim_table_schema)\n",
    "    client.create_table(manufacturer_dim_table)\n",
    "    print(f\"{manufacturer_dim_table_name} Created\")\n",
    "    \n",
    "date_dim_table_ref = dataset_ref.table(date_dim_table_name)\n",
    "try:\n",
    "    client.get_table(date_dim_table_ref)\n",
    "    print(f\"Table {date_dim_table_name} already exists in the dataset {dataset_name}.\")\n",
    "except:\n",
    "    date_dim_table = bigquery.Table(date_dim_table_ref, schema=date_dim_table_schema)\n",
    "    client.create_table(date_dim_table)\n",
    "    print(f\"{date_dim_table_name} Created\")"
   ]
  }
 ],
 "metadata": {
  "kernelspec": {
   "display_name": "Python 3 (ipykernel)",
   "language": "python",
   "name": "python3"
  },
  "language_info": {
   "codemirror_mode": {
    "name": "ipython",
    "version": 3
   },
   "file_extension": ".py",
   "mimetype": "text/x-python",
   "name": "python",
   "nbconvert_exporter": "python",
   "pygments_lexer": "ipython3",
   "version": "3.8.2"
  }
 },
 "nbformat": 4,
 "nbformat_minor": 5
}
